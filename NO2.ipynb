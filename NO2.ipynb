{
 "cells": [
  {
   "cell_type": "code",
   "execution_count": 32,
   "id": "1a46dd4c-b662-4f95-a599-6974804af870",
   "metadata": {},
   "outputs": [],
   "source": [
    "import numpy as np\n",
    "import pandas as pd\n",
    "from sklearn.model_selection import train_test_split\n",
    "from sklearn.ensemble import RandomForestClassifier\n",
    "from sklearn.naive_bayes import GaussianNB\n",
    "from sklearn.metrics import classification_report, accuracy_score"
   ]
  },
  {
   "cell_type": "code",
   "execution_count": 61,
   "id": "b04ea4b9-8273-49f5-a8bc-8d3a8750da12",
   "metadata": {},
   "outputs": [],
   "source": [
    "data=pd.read_csv(r\"C:\\Users\\Mansi Nayyar\\OneDrive\\Desktop\\saloni\\data mining\\air_quality_index.csv\")"
   ]
  },
  {
   "cell_type": "code",
   "execution_count": 62,
   "id": "5c08ae07-74e2-4e55-a5ca-9d5b786599de",
   "metadata": {},
   "outputs": [
    {
     "data": {
      "text/plain": [
       "country            0\n",
       "state              0\n",
       "city               0\n",
       "station            0\n",
       "last_update        0\n",
       "latitude           0\n",
       "longitude          0\n",
       "pollutant_id       0\n",
       "pollutant_min    233\n",
       "pollutant_max    233\n",
       "pollutant_avg    233\n",
       "dtype: int64"
      ]
     },
     "execution_count": 62,
     "metadata": {},
     "output_type": "execute_result"
    }
   ],
   "source": [
    "data.isna().sum()"
   ]
  },
  {
   "cell_type": "code",
   "execution_count": 63,
   "id": "202db676-8c4c-467c-b51e-1237f5eef73c",
   "metadata": {},
   "outputs": [
    {
     "data": {
      "text/plain": [
       "country          0\n",
       "state            0\n",
       "city             0\n",
       "station          0\n",
       "last_update      0\n",
       "latitude         0\n",
       "longitude        0\n",
       "pollutant_id     0\n",
       "pollutant_min    0\n",
       "pollutant_max    0\n",
       "pollutant_avg    0\n",
       "dtype: int64"
      ]
     },
     "execution_count": 63,
     "metadata": {},
     "output_type": "execute_result"
    }
   ],
   "source": [
    "data.dropna(inplace=True)\n",
    "data.isna().sum()"
   ]
  },
  {
   "cell_type": "code",
   "execution_count": 64,
   "id": "62afecda-3462-4f6f-953e-173fa54d549f",
   "metadata": {},
   "outputs": [],
   "source": [
    "data.drop(data[data['pollutant_id']!='NO2'].index,inplace=True)"
   ]
  },
  {
   "cell_type": "code",
   "execution_count": 65,
   "id": "bcc62c0f-5955-420d-8f2c-f34a8b4594b7",
   "metadata": {},
   "outputs": [],
   "source": [
    "df = data.groupby(['city','pollutant_id']).agg({'pollutant_min': 'min', 'pollutant_max': 'max'})\n",
    "df['pollutant_avg'] = (df['pollutant_max'] + df['pollutant_min']) / 2"
   ]
  },
  {
   "cell_type": "code",
   "execution_count": 66,
   "id": "d3278a24-a286-4c18-a8e9-3b03a77dd38f",
   "metadata": {},
   "outputs": [
    {
     "data": {
      "text/html": [
       "<div>\n",
       "<style scoped>\n",
       "    .dataframe tbody tr th:only-of-type {\n",
       "        vertical-align: middle;\n",
       "    }\n",
       "\n",
       "    .dataframe tbody tr th {\n",
       "        vertical-align: top;\n",
       "    }\n",
       "\n",
       "    .dataframe thead th {\n",
       "        text-align: right;\n",
       "    }\n",
       "</style>\n",
       "<table border=\"1\" class=\"dataframe\">\n",
       "  <thead>\n",
       "    <tr style=\"text-align: right;\">\n",
       "      <th></th>\n",
       "      <th></th>\n",
       "      <th>pollutant_min</th>\n",
       "      <th>pollutant_max</th>\n",
       "      <th>pollutant_avg</th>\n",
       "    </tr>\n",
       "    <tr>\n",
       "      <th>city</th>\n",
       "      <th>pollutant_id</th>\n",
       "      <th></th>\n",
       "      <th></th>\n",
       "      <th></th>\n",
       "    </tr>\n",
       "  </thead>\n",
       "  <tbody>\n",
       "    <tr>\n",
       "      <th>Agartala</th>\n",
       "      <th>NO2</th>\n",
       "      <td>4.0</td>\n",
       "      <td>6.0</td>\n",
       "      <td>5.0</td>\n",
       "    </tr>\n",
       "    <tr>\n",
       "      <th>Agra</th>\n",
       "      <th>NO2</th>\n",
       "      <td>1.0</td>\n",
       "      <td>184.0</td>\n",
       "      <td>92.5</td>\n",
       "    </tr>\n",
       "    <tr>\n",
       "      <th>Ahmedabad</th>\n",
       "      <th>NO2</th>\n",
       "      <td>13.0</td>\n",
       "      <td>110.0</td>\n",
       "      <td>61.5</td>\n",
       "    </tr>\n",
       "    <tr>\n",
       "      <th>Ahmednagar</th>\n",
       "      <th>NO2</th>\n",
       "      <td>19.0</td>\n",
       "      <td>61.0</td>\n",
       "      <td>40.0</td>\n",
       "    </tr>\n",
       "    <tr>\n",
       "      <th>Ajmer</th>\n",
       "      <th>NO2</th>\n",
       "      <td>13.0</td>\n",
       "      <td>68.0</td>\n",
       "      <td>40.5</td>\n",
       "    </tr>\n",
       "    <tr>\n",
       "      <th>...</th>\n",
       "      <th>...</th>\n",
       "      <td>...</td>\n",
       "      <td>...</td>\n",
       "      <td>...</td>\n",
       "    </tr>\n",
       "    <tr>\n",
       "      <th>Virar</th>\n",
       "      <th>NO2</th>\n",
       "      <td>7.0</td>\n",
       "      <td>42.0</td>\n",
       "      <td>24.5</td>\n",
       "    </tr>\n",
       "    <tr>\n",
       "      <th>Visakhapatnam</th>\n",
       "      <th>NO2</th>\n",
       "      <td>35.0</td>\n",
       "      <td>60.0</td>\n",
       "      <td>47.5</td>\n",
       "    </tr>\n",
       "    <tr>\n",
       "      <th>Vrindavan</th>\n",
       "      <th>NO2</th>\n",
       "      <td>2.0</td>\n",
       "      <td>3.0</td>\n",
       "      <td>2.5</td>\n",
       "    </tr>\n",
       "    <tr>\n",
       "      <th>Yadgir</th>\n",
       "      <th>NO2</th>\n",
       "      <td>6.0</td>\n",
       "      <td>10.0</td>\n",
       "      <td>8.0</td>\n",
       "    </tr>\n",
       "    <tr>\n",
       "      <th>Yamuna Nagar</th>\n",
       "      <th>NO2</th>\n",
       "      <td>11.0</td>\n",
       "      <td>29.0</td>\n",
       "      <td>20.0</td>\n",
       "    </tr>\n",
       "  </tbody>\n",
       "</table>\n",
       "<p>231 rows × 3 columns</p>\n",
       "</div>"
      ],
      "text/plain": [
       "                            pollutant_min  pollutant_max  pollutant_avg\n",
       "city          pollutant_id                                             \n",
       "Agartala      NO2                     4.0            6.0            5.0\n",
       "Agra          NO2                     1.0          184.0           92.5\n",
       "Ahmedabad     NO2                    13.0          110.0           61.5\n",
       "Ahmednagar    NO2                    19.0           61.0           40.0\n",
       "Ajmer         NO2                    13.0           68.0           40.5\n",
       "...                                   ...            ...            ...\n",
       "Virar         NO2                     7.0           42.0           24.5\n",
       "Visakhapatnam NO2                    35.0           60.0           47.5\n",
       "Vrindavan     NO2                     2.0            3.0            2.5\n",
       "Yadgir        NO2                     6.0           10.0            8.0\n",
       "Yamuna Nagar  NO2                    11.0           29.0           20.0\n",
       "\n",
       "[231 rows x 3 columns]"
      ]
     },
     "execution_count": 66,
     "metadata": {},
     "output_type": "execute_result"
    }
   ],
   "source": [
    "df"
   ]
  },
  {
   "cell_type": "code",
   "execution_count": 67,
   "id": "4e5d19fa-7c70-4e99-9457-3c0351578911",
   "metadata": {},
   "outputs": [],
   "source": [
    "bins = [0,40,80,180,280, np.inf]\n",
    "categories = ['very healthy', 'healthy', 'moderate', 'unhealthy', 'very unhealthy']"
   ]
  },
  {
   "cell_type": "code",
   "execution_count": 68,
   "id": "3a538e98-d07f-4f93-a3bc-43e94af60ec6",
   "metadata": {},
   "outputs": [],
   "source": [
    "df['pollutant_level'] = pd.cut(df['pollutant_avg'], bins=bins, labels=categories, right=False)"
   ]
  },
  {
   "cell_type": "code",
   "execution_count": 69,
   "id": "6536896f-cc45-4d17-871b-325dd2c4ab2f",
   "metadata": {},
   "outputs": [
    {
     "data": {
      "text/html": [
       "<div>\n",
       "<style scoped>\n",
       "    .dataframe tbody tr th:only-of-type {\n",
       "        vertical-align: middle;\n",
       "    }\n",
       "\n",
       "    .dataframe tbody tr th {\n",
       "        vertical-align: top;\n",
       "    }\n",
       "\n",
       "    .dataframe thead th {\n",
       "        text-align: right;\n",
       "    }\n",
       "</style>\n",
       "<table border=\"1\" class=\"dataframe\">\n",
       "  <thead>\n",
       "    <tr style=\"text-align: right;\">\n",
       "      <th></th>\n",
       "      <th></th>\n",
       "      <th>pollutant_min</th>\n",
       "      <th>pollutant_max</th>\n",
       "      <th>pollutant_avg</th>\n",
       "      <th>pollutant_level</th>\n",
       "    </tr>\n",
       "    <tr>\n",
       "      <th>city</th>\n",
       "      <th>pollutant_id</th>\n",
       "      <th></th>\n",
       "      <th></th>\n",
       "      <th></th>\n",
       "      <th></th>\n",
       "    </tr>\n",
       "  </thead>\n",
       "  <tbody>\n",
       "    <tr>\n",
       "      <th>Agartala</th>\n",
       "      <th>NO2</th>\n",
       "      <td>4.0</td>\n",
       "      <td>6.0</td>\n",
       "      <td>5.0</td>\n",
       "      <td>very healthy</td>\n",
       "    </tr>\n",
       "    <tr>\n",
       "      <th>Agra</th>\n",
       "      <th>NO2</th>\n",
       "      <td>1.0</td>\n",
       "      <td>184.0</td>\n",
       "      <td>92.5</td>\n",
       "      <td>moderate</td>\n",
       "    </tr>\n",
       "    <tr>\n",
       "      <th>Ahmedabad</th>\n",
       "      <th>NO2</th>\n",
       "      <td>13.0</td>\n",
       "      <td>110.0</td>\n",
       "      <td>61.5</td>\n",
       "      <td>healthy</td>\n",
       "    </tr>\n",
       "    <tr>\n",
       "      <th>Ahmednagar</th>\n",
       "      <th>NO2</th>\n",
       "      <td>19.0</td>\n",
       "      <td>61.0</td>\n",
       "      <td>40.0</td>\n",
       "      <td>healthy</td>\n",
       "    </tr>\n",
       "    <tr>\n",
       "      <th>Ajmer</th>\n",
       "      <th>NO2</th>\n",
       "      <td>13.0</td>\n",
       "      <td>68.0</td>\n",
       "      <td>40.5</td>\n",
       "      <td>healthy</td>\n",
       "    </tr>\n",
       "    <tr>\n",
       "      <th>...</th>\n",
       "      <th>...</th>\n",
       "      <td>...</td>\n",
       "      <td>...</td>\n",
       "      <td>...</td>\n",
       "      <td>...</td>\n",
       "    </tr>\n",
       "    <tr>\n",
       "      <th>Virar</th>\n",
       "      <th>NO2</th>\n",
       "      <td>7.0</td>\n",
       "      <td>42.0</td>\n",
       "      <td>24.5</td>\n",
       "      <td>very healthy</td>\n",
       "    </tr>\n",
       "    <tr>\n",
       "      <th>Visakhapatnam</th>\n",
       "      <th>NO2</th>\n",
       "      <td>35.0</td>\n",
       "      <td>60.0</td>\n",
       "      <td>47.5</td>\n",
       "      <td>healthy</td>\n",
       "    </tr>\n",
       "    <tr>\n",
       "      <th>Vrindavan</th>\n",
       "      <th>NO2</th>\n",
       "      <td>2.0</td>\n",
       "      <td>3.0</td>\n",
       "      <td>2.5</td>\n",
       "      <td>very healthy</td>\n",
       "    </tr>\n",
       "    <tr>\n",
       "      <th>Yadgir</th>\n",
       "      <th>NO2</th>\n",
       "      <td>6.0</td>\n",
       "      <td>10.0</td>\n",
       "      <td>8.0</td>\n",
       "      <td>very healthy</td>\n",
       "    </tr>\n",
       "    <tr>\n",
       "      <th>Yamuna Nagar</th>\n",
       "      <th>NO2</th>\n",
       "      <td>11.0</td>\n",
       "      <td>29.0</td>\n",
       "      <td>20.0</td>\n",
       "      <td>very healthy</td>\n",
       "    </tr>\n",
       "  </tbody>\n",
       "</table>\n",
       "<p>231 rows × 4 columns</p>\n",
       "</div>"
      ],
      "text/plain": [
       "                            pollutant_min  pollutant_max  pollutant_avg  \\\n",
       "city          pollutant_id                                                \n",
       "Agartala      NO2                     4.0            6.0            5.0   \n",
       "Agra          NO2                     1.0          184.0           92.5   \n",
       "Ahmedabad     NO2                    13.0          110.0           61.5   \n",
       "Ahmednagar    NO2                    19.0           61.0           40.0   \n",
       "Ajmer         NO2                    13.0           68.0           40.5   \n",
       "...                                   ...            ...            ...   \n",
       "Virar         NO2                     7.0           42.0           24.5   \n",
       "Visakhapatnam NO2                    35.0           60.0           47.5   \n",
       "Vrindavan     NO2                     2.0            3.0            2.5   \n",
       "Yadgir        NO2                     6.0           10.0            8.0   \n",
       "Yamuna Nagar  NO2                    11.0           29.0           20.0   \n",
       "\n",
       "                           pollutant_level  \n",
       "city          pollutant_id                  \n",
       "Agartala      NO2             very healthy  \n",
       "Agra          NO2                 moderate  \n",
       "Ahmedabad     NO2                  healthy  \n",
       "Ahmednagar    NO2                  healthy  \n",
       "Ajmer         NO2                  healthy  \n",
       "...                                    ...  \n",
       "Virar         NO2             very healthy  \n",
       "Visakhapatnam NO2                  healthy  \n",
       "Vrindavan     NO2             very healthy  \n",
       "Yadgir        NO2             very healthy  \n",
       "Yamuna Nagar  NO2             very healthy  \n",
       "\n",
       "[231 rows x 4 columns]"
      ]
     },
     "execution_count": 69,
     "metadata": {},
     "output_type": "execute_result"
    }
   ],
   "source": [
    "df"
   ]
  },
  {
   "cell_type": "code",
   "execution_count": 70,
   "id": "bb5c7c13-6953-42ee-a93b-6ad82659e23c",
   "metadata": {},
   "outputs": [],
   "source": [
    "X = df[['pollutant_min', 'pollutant_max', 'pollutant_avg']]\n",
    "y = df['pollutant_level']"
   ]
  },
  {
   "cell_type": "code",
   "execution_count": 71,
   "id": "5bec6bbe-7f21-428a-a7ce-b7c4540539b5",
   "metadata": {},
   "outputs": [
    {
     "name": "stdout",
     "output_type": "stream",
     "text": [
      "Accuracy: 0.9361702127659575\n"
     ]
    }
   ],
   "source": [
    "# Split the data into training and testing sets.\n",
    "X_train, X_test, y_train, y_test = train_test_split(X, y, test_size=0.2, random_state=42)\n",
    "\n",
    "# Instantiate a Gaussian Naive Bayes classifier.\n",
    "nb_classifier = GaussianNB()\n",
    "\n",
    "# Train the Naive Bayes classifier on the training data.\n",
    "nb_classifier.fit(X_train, y_train)\n",
    "\n",
    "# Make predictions on the test data using the trained classifier.\n",
    "y_pred = nb_classifier.predict(X_test)\n",
    "\n",
    "# Calculating the accuracy of the model\n",
    "accuracy = accuracy_score(y_test, y_pred)\n",
    "print(\"Accuracy:\", accuracy)"
   ]
  },
  {
   "cell_type": "code",
   "execution_count": 76,
   "id": "85860d16-41f0-4e8d-bd42-9ae4a1298c49",
   "metadata": {},
   "outputs": [
    {
     "data": {
      "image/png": "[encoded data removed]",
      "text/plain": [
       "<Figure size 800x600 with 2 Axes>"
      ]
     },
     "metadata": {},
     "output_type": "display_data"
    }
   ],
   "source": [
    "import matplotlib.pyplot as plt\n",
    "import seaborn as sns\n",
    "from sklearn.metrics import confusion_matrix\n",
    "\n",
    "# Generate confusion matrix\n",
    "con_mat = confusion_matrix(y_test, y_pred)\n",
    "\n",
    "# Plot confusion matrix\n",
    "plt.figure(figsize=(8, 6))\n",
    "sns.heatmap(con_mat, annot=True, cmap='Blues', fmt='g', xticklabels=categories, yticklabels=categories)\n",
    "plt.xlabel('Predicted label')\n",
    "plt.ylabel('True Label')\n",
    "plt.title('Confusion Matrix')\n",
    "plt.show()"
   ]
  },
  {
   "cell_type": "code",
   "execution_count": 73,
   "id": "95e7592c-da3f-49ac-9291-4c0ffaf8b655",
   "metadata": {},
   "outputs": [],
   "source": [
    "from sklearn.neighbors import KNeighborsClassifier\n",
    "\n",
    "# Train the KNN classifier\n",
    "k = 5  # Number of neighbors\n",
    "knn = KNeighborsClassifier(n_neighbors=k)\n",
    "knn.fit(X_train, y_train)\n",
    "\n",
    "# Test the classifier\n",
    "y_pred = knn.predict(X_test)"
   ]
  },
  {
   "cell_type": "code",
   "execution_count": 74,
   "id": "c45a5fe1-98f2-4780-b242-a983c9c7fa0a",
   "metadata": {},
   "outputs": [
    {
     "name": "stdout",
     "output_type": "stream",
     "text": [
      "Accuracy: 0.9787234042553191\n"
     ]
    }
   ],
   "source": [
    "# Calculate accuracy\n",
    "accuracy = accuracy_score(y_test, y_pred)\n",
    "print(\"Accuracy:\", accuracy)"
   ]
  },
  {
   "cell_type": "code",
   "execution_count": 75,
   "id": "a6a6b1fa-58e7-435b-a619-cf0b113180ac",
   "metadata": {},
   "outputs": [
    {
     "data": {
      "image/png": "[encoded data removed]",
      "text/plain": [
       "<Figure size 800x600 with 2 Axes>"
      ]
     },
     "metadata": {},
     "output_type": "display_data"
    }
   ],
   "source": [
    "import matplotlib.pyplot as plt\n",
    "import seaborn as sns\n",
    "from sklearn.metrics import confusion_matrix\n",
    "\n",
    "# Generate confusion matrix\n",
    "cm = confusion_matrix(y_test, y_pred)\n",
    "\n",
    "# Plot confusion matrix\n",
    "plt.figure(figsize=(8, 6))\n",
    "sns.heatmap(cm, annot=True, cmap='Blues', fmt='g', xticklabels=categories, yticklabels=categories)\n",
    "plt.xlabel('Predicted Label')\n",
    "plt.ylabel('True Label')\n",
    "plt.title('Confusion Matrix')\n",
    "plt.show()"
   ]
  },
  {
   "cell_type": "code",
   "execution_count": null,
   "id": "3a0921fb-6153-4bbc-b71e-87c00d3f3626",
   "metadata": {},
   "outputs": [],
   "source": []
  }
 ],
 "metadata": {
  "kernelspec": {
   "display_name": "Python 3 (ipykernel)",
   "language": "python",
   "name": "python3"
  },
  "language_info": {
   "codemirror_mode": {
    "name": "ipython",
    "version": 3
   },
   "file_extension": ".py",
   "mimetype": "text/x-python",
   "name": "python",
   "nbconvert_exporter": "python",
   "pygments_lexer": "ipython3",
   "version": "3.11.7"
  }
 },
 "nbformat": 4,
 "nbformat_minor": 5
}
